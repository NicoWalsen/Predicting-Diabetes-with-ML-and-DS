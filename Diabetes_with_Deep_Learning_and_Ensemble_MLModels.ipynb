{
 "cells": [
  {
   "cell_type": "code",
   "execution_count": 16,
   "id": "2c8c4ba1",
   "metadata": {},
   "outputs": [
    {
     "name": "stdout",
     "output_type": "stream",
     "text": [
      "Neural Network Loss: 0.5791845321655273, Accuracy: 0.7467532753944397\n",
      "Ensemble Model Accuracy: 0.7922077922077922\n",
      "Ensemble Model Confusion Matrix:\n",
      "[[89 14]\n",
      " [18 33]]\n"
     ]
    }
   ],
   "source": [
    "import pandas as pd\n",
    "from sklearn.model_selection import train_test_split\n",
    "from sklearn.preprocessing import StandardScaler\n",
    "from sklearn.ensemble import RandomForestClassifier, GradientBoostingClassifier, VotingClassifier\n",
    "from sklearn.metrics import accuracy_score, confusion_matrix\n",
    "from tensorflow.keras.models import Sequential\n",
    "from tensorflow.keras.layers import Dense, Input\n",
    "import tensorflow as tf\n",
    "\n",
    "def load_and_preprocess_data(filepath):\n",
    "    df = pd.read_csv(filepath)\n",
    "    df = df.drop(columns=['Unnamed: 0'])\n",
    "    X = df.drop('Outcome', axis=1)\n",
    "    y = df['Outcome']\n",
    "    X_train, X_test, y_train, y_test = train_test_split(X, y, test_size=0.2, random_state=28)\n",
    "    scaler = StandardScaler()\n",
    "    X_train_scaled = scaler.fit_transform(X_train)\n",
    "    X_test_scaled = scaler.transform(X_test)\n",
    "    return X_train_scaled, X_test_scaled, y_train, y_test\n",
    "\n",
    "def build_and_train_nn_model(X_train_scaled, y_train):\n",
    "    model = Sequential([\n",
    "        Input(shape=(X_train_scaled.shape[1],)),\n",
    "        Dense(64, activation='relu'),\n",
    "        Dense(32, activation='relu'),\n",
    "        Dense(1, activation='sigmoid')\n",
    "    ])\n",
    "    model.compile(optimizer='adam', loss='binary_crossentropy', metrics=['accuracy'])\n",
    "    history = model.fit(X_train_scaled, y_train, epochs=100, batch_size=64, validation_split=0.2, verbose=0)\n",
    "    return model, history\n",
    "\n",
    "def evaluate_model(model, X_test_scaled, y_test):\n",
    "    loss, accuracy = model.evaluate(X_test_scaled, y_test, verbose=0)\n",
    "    return loss, accuracy\n",
    "\n",
    "def build_and_evaluate_ensemble(X_train_scaled, X_test_scaled, y_train, y_test):\n",
    "    rf_clf = RandomForestClassifier(n_estimators=100, random_state=28)\n",
    "    gb_clf = GradientBoostingClassifier(n_estimators=100, random_state=28)\n",
    "    voting_clf = VotingClassifier(estimators=[('rf', rf_clf), ('gb', gb_clf)], voting='soft')\n",
    "    voting_clf.fit(X_train_scaled, y_train)\n",
    "    y_pred = voting_clf.predict(X_test_scaled)\n",
    "    accuracy = accuracy_score(y_test, y_pred)\n",
    "    conf_matrix = confusion_matrix(y_test, y_pred)\n",
    "    return accuracy, conf_matrix\n",
    "\n",
    "# Load and preprocess data\n",
    "X_train_scaled, X_test_scaled, y_train, y_test = load_and_preprocess_data('diabetes_final.csv')\n",
    "\n",
    "# Build, train and evaluate neural network model\n",
    "nn_model, history = build_and_train_nn_model(X_train_scaled, y_train)\n",
    "nn_loss, nn_accuracy = evaluate_model(nn_model, X_test_scaled, y_test)\n",
    "\n",
    "# Build and evaluate ensemble model\n",
    "ensemble_accuracy, ensemble_conf_matrix = build_and_evaluate_ensemble(X_train_scaled, X_test_scaled, y_train, y_test)\n",
    "\n",
    "# Output results\n",
    "print(f\"Neural Network Loss: {nn_loss}, Accuracy: {nn_accuracy}\")\n",
    "print(f\"Ensemble Model Accuracy: {ensemble_accuracy}\")\n",
    "print(f\"Ensemble Model Confusion Matrix:\\n{ensemble_conf_matrix}\")\n"
   ]
  },
  {
   "cell_type": "code",
   "execution_count": null,
   "id": "d9839434",
   "metadata": {},
   "outputs": [],
   "source": []
  }
 ],
 "metadata": {
  "kernelspec": {
   "display_name": "Python 3 (ipykernel)",
   "language": "python",
   "name": "python3"
  },
  "language_info": {
   "codemirror_mode": {
    "name": "ipython",
    "version": 3
   },
   "file_extension": ".py",
   "mimetype": "text/x-python",
   "name": "python",
   "nbconvert_exporter": "python",
   "pygments_lexer": "ipython3",
   "version": "3.11.5"
  }
 },
 "nbformat": 4,
 "nbformat_minor": 5
}
